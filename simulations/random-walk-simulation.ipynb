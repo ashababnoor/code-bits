{
 "cells": [
  {
   "cell_type": "markdown",
   "metadata": {},
   "source": [
    "# Random Walk Simulation\n",
    "\n",
    "A random walk is a mathematical object, known as a stochastic or random process, that describes a path consisting of a succession of random steps. In simple terms, it's a sequence of steps where each step is chosen randomly."
   ]
  },
  {
   "cell_type": "markdown",
   "metadata": {},
   "source": [
    "# 1D Random Walks"
   ]
  },
  {
   "cell_type": "markdown",
   "metadata": {},
   "source": [
    "### Simple Random Walk"
   ]
  },
  {
   "cell_type": "code",
   "execution_count": 10,
   "metadata": {},
   "outputs": [
    {
     "name": "stdout",
     "output_type": "stream",
     "text": [
      "position = 14\n"
     ]
    }
   ],
   "source": [
    "import random\n",
    "\n",
    "# Number of steps\n",
    "n_steps = 1000\n",
    "\n",
    "# Initialize the position\n",
    "position = 0\n",
    "\n",
    "# Perform the random walk\n",
    "for _ in range(n_steps):\n",
    "    step = random.choice([-1, 1])  # Choose a step direction\n",
    "    position += step  # Update the position\n",
    "    \n",
    "print(f\"{position = }\")"
   ]
  },
  {
   "cell_type": "markdown",
   "metadata": {},
   "source": [
    "### Random Walk with Drift"
   ]
  },
  {
   "cell_type": "code",
   "execution_count": 11,
   "metadata": {},
   "outputs": [
    {
     "name": "stdout",
     "output_type": "stream",
     "text": [
      "position = 202\n"
     ]
    }
   ],
   "source": [
    "import numpy as np\n",
    "\n",
    "# Number of steps\n",
    "n_steps = 1000\n",
    "\n",
    "# Initialize the position\n",
    "position = 0\n",
    "\n",
    "# Perform the random walk with drift\n",
    "for _ in range(n_steps):\n",
    "    step = np.random.choice([-1, 1], p=[0.4, 0.6])  # Choose a step direction with bias\n",
    "    position += step  # Update the position\n",
    "    \n",
    "print(f\"{position = }\")"
   ]
  },
  {
   "cell_type": "markdown",
   "metadata": {},
   "source": [
    "### Random Walk with Varying Step Sizes"
   ]
  },
  {
   "cell_type": "code",
   "execution_count": 13,
   "metadata": {},
   "outputs": [
    {
     "name": "stdout",
     "output_type": "stream",
     "text": [
      "position = 16.880609028632495\n"
     ]
    }
   ],
   "source": [
    "import random\n",
    "\n",
    "# Number of steps\n",
    "n_steps = 1000\n",
    "\n",
    "# Initialize the position\n",
    "position = 0\n",
    "\n",
    "# Perform the random walk with varying step sizes\n",
    "for _ in range(n_steps):\n",
    "    step = random.choice([-1, 1]) * random.uniform(0.5, 1.5)  # Choose a step direction and size\n",
    "    position += step  # Update the position\n",
    "    \n",
    "print(f\"{position = }\")"
   ]
  }
 ],
 "metadata": {
  "kernelspec": {
   "display_name": "venv",
   "language": "python",
   "name": "python3"
  },
  "language_info": {
   "codemirror_mode": {
    "name": "ipython",
    "version": 3
   },
   "file_extension": ".py",
   "mimetype": "text/x-python",
   "name": "python",
   "nbconvert_exporter": "python",
   "pygments_lexer": "ipython3",
   "version": "3.9.10"
  }
 },
 "nbformat": 4,
 "nbformat_minor": 2
}
